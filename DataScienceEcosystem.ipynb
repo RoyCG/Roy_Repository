{
 "cells": [
  {
   "cell_type": "markdown",
   "id": "38b21be7-e6aa-4aa5-b663-180c76c46b7e",
   "metadata": {
    "tags": []
   },
   "source": [
    "# Data science Tools and Ecosystem"
   ]
  },
  {
   "cell_type": "markdown",
   "id": "1939554b-8d30-4b1c-9587-ee833bf2fc43",
   "metadata": {
    "tags": []
   },
   "source": [
    "In this notebook, Data Science Tools and Ecosystem are summarized."
   ]
  },
  {
   "cell_type": "markdown",
   "id": "583f2812-11c8-4539-9fa6-8c550b2f38a2",
   "metadata": {},
   "source": [
    "Objectives:\n",
    "* List popular languages for Data Science.\n",
    "* List commonly used libraries in data science.\n",
    "* List development environment open source tools used in data science.\n",
    "* Create an unordered list\n"
   ]
  },
  {
   "cell_type": "markdown",
   "id": "bef28cd7-e56b-4b53-974f-b1e00b5fa8c3",
   "metadata": {
    "tags": []
   },
   "source": [
    "Some of popular languages that Data Scientists use are:\n",
    "1. Python\n",
    "2. R\n",
    "3. SQL"
   ]
  },
  {
   "cell_type": "markdown",
   "id": "8ab66451-f3de-4302-816f-c17a3e0bad1f",
   "metadata": {},
   "source": [
    "Some of commonly used libraries used by Data Scientists include:\n",
    "1. Pandas\n",
    "2. NumPy\n",
    "3. Dplyr"
   ]
  },
  {
   "cell_type": "markdown",
   "id": "4018fadf-47a6-4155-9d9a-b6532587a2c1",
   "metadata": {},
   "source": [
    "|Data Science Tools|\n",
    "|------------------|\n",
    "|JupyterLab|\n",
    "|VS Code|\n",
    "|GoogleColab|"
   ]
  },
  {
   "cell_type": "markdown",
   "id": "9f446d41-16c5-4846-b7d1-3a1191fa20cd",
   "metadata": {},
   "source": [
    "### Below are a few examples of evaluating arithmetic expressions in Python"
   ]
  },
  {
   "cell_type": "code",
   "execution_count": 7,
   "id": "f0b93719-ac89-4761-98b5-ad3d0df37bd9",
   "metadata": {
    "tags": []
   },
   "outputs": [
    {
     "data": {
      "text/plain": [
       "17"
      ]
     },
     "execution_count": 7,
     "metadata": {},
     "output_type": "execute_result"
    }
   ],
   "source": [
    "#this a simple arithmetic expression to multiply then add integers\n",
    "(3*4)+5"
   ]
  },
  {
   "cell_type": "code",
   "execution_count": 8,
   "id": "ba20378e-d2ab-44a7-8e31-c8cd64cf7a09",
   "metadata": {
    "tags": []
   },
   "outputs": [
    {
     "data": {
      "text/plain": [
       "3.3333333333333335"
      ]
     },
     "execution_count": 8,
     "metadata": {},
     "output_type": "execute_result"
    }
   ],
   "source": [
    "#this will convert 200 minutes to hours by diving by 60\n",
    "200/60"
   ]
  },
  {
   "cell_type": "markdown",
   "id": "fc13cdea-6d2e-4c0f-80ba-7e682d487475",
   "metadata": {},
   "source": [
    "## Author\n",
    "Roy Antony Chacon Garcia"
   ]
  }
 ],
 "metadata": {
  "kernelspec": {
   "display_name": "Python",
   "language": "python",
   "name": "conda-env-python-py"
  },
  "language_info": {
   "codemirror_mode": {
    "name": "ipython",
    "version": 3
   },
   "file_extension": ".py",
   "mimetype": "text/x-python",
   "name": "python",
   "nbconvert_exporter": "python",
   "pygments_lexer": "ipython3",
   "version": "3.7.12"
  }
 },
 "nbformat": 4,
 "nbformat_minor": 5
}
